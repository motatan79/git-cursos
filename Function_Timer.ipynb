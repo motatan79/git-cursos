{
 "cells": [
  {
   "attachments": {},
   "cell_type": "markdown",
   "metadata": {},
   "source": [
    "### Vamos a definir una función para calcular el tiempo de cuanto se tarda una función para su ejecución"
   ]
  },
  {
   "cell_type": "code",
   "execution_count": 3,
   "metadata": {},
   "outputs": [],
   "source": [
    "import time"
   ]
  },
  {
   "cell_type": "code",
   "execution_count": 4,
   "metadata": {},
   "outputs": [],
   "source": [
    "def time_it(function, *args, **kwargs):\n",
    "    print(args, kwargs)"
   ]
  },
  {
   "cell_type": "code",
   "execution_count": 5,
   "metadata": {},
   "outputs": [
    {
     "name": "stdout",
     "output_type": "stream",
     "text": [
      "(1, 2, 3) {'sep': '-', 'end': ' *** '}\n"
     ]
    }
   ],
   "source": [
    "time_it(print, 1,2,3, sep = '-', end = ' *** ')\n",
    "# Los args los imprime como una tupla y los kwargs como un diccionario"
   ]
  },
  {
   "cell_type": "code",
   "execution_count": 6,
   "metadata": {},
   "outputs": [],
   "source": [
    "def time_it(function, *args, **kwargs):\n",
    "    # Tenemos que desempacar los argumentos posicionales (args) y por palabra clave(kwargs) por eso \n",
    "    # ponemos el * en los argumentos de la función\n",
    "    function(*args, **kwargs)"
   ]
  },
  {
   "cell_type": "code",
   "execution_count": 7,
   "metadata": {},
   "outputs": [
    {
     "name": "stdout",
     "output_type": "stream",
     "text": [
      "1-2-3 *** "
     ]
    }
   ],
   "source": [
    "time_it(print, 1,2,3, sep = '-', end = ' *** ')"
   ]
  },
  {
   "cell_type": "code",
   "execution_count": 8,
   "metadata": {},
   "outputs": [],
   "source": [
    "# Ahora vamos a colocar un parámetro para que la función se ejecuta un numero de veces \n",
    "def time_it(function, *args, rep = 1, **kwargs):\n",
    "    # Tenemos que desempacar los argumentos posicionales (args) y por palabra clave(kwargs) por eso \n",
    "    # ponemos el * en los argumentos de la función\n",
    "    for i in range(rep):\n",
    "        function(*args, **kwargs)"
   ]
  },
  {
   "cell_type": "code",
   "execution_count": 9,
   "metadata": {},
   "outputs": [
    {
     "name": "stdout",
     "output_type": "stream",
     "text": [
      "1-2-3 ***\n",
      "1-2-3 ***\n",
      "1-2-3 ***\n",
      "1-2-3 ***\n",
      "1-2-3 ***\n"
     ]
    }
   ],
   "source": [
    "time_it(print, 1,2,3, sep = '-', end = ' ***\\n', rep = 5)"
   ]
  },
  {
   "cell_type": "code",
   "execution_count": 10,
   "metadata": {},
   "outputs": [],
   "source": [
    "# Ahora ponemos un medidor del tiempo para saber cuando empieza y cuando termina la ejecución \n",
    "def time_it(function, *args, rep = 1, **kwargs):\n",
    "    # Tenemos que desempacar los argumentos posicionales (args) y por palabra clave(kwargs) por eso \n",
    "    # ponemos el * en los argumentos de la función\n",
    "    start = time.perf_counter()\n",
    "    \n",
    "    for i in range(rep):\n",
    "        function(*args, **kwargs)\n",
    "\n",
    "    end = time.perf_counter()\n",
    "\n",
    "    return (end - start) / rep # para obtener un promedio del tiempo de ejecución de las repeticiones "
   ]
  },
  {
   "cell_type": "code",
   "execution_count": 11,
   "metadata": {},
   "outputs": [
    {
     "name": "stdout",
     "output_type": "stream",
     "text": [
      "1-2-3 ***\n",
      "1-2-3 ***\n",
      "1-2-3 ***\n",
      "1-2-3 ***\n",
      "1-2-3 ***\n"
     ]
    },
    {
     "data": {
      "text/plain": [
       "2.2820000003775932e-05"
      ]
     },
     "execution_count": 11,
     "metadata": {},
     "output_type": "execute_result"
    }
   ],
   "source": [
    "time_it(print, 1,2,3, sep = '-', end = ' ***\\n', rep = 5)"
   ]
  },
  {
   "cell_type": "code",
   "execution_count": 27,
   "metadata": {},
   "outputs": [],
   "source": [
    "# Para calcular la potencia de un numero , desde una potencia dada hasta otra\n",
    "def compute_powers_1(n, *, start=1, end):\n",
    "    # se coloca * después del numero para terminar con los parámetros por posición y comenzar con los parámetros por clave\n",
    "    results = []\n",
    "    for i in range(start, end + 1):\n",
    "        power = n ** i\n",
    "        results.append(power)\n",
    "    return results"
   ]
  },
  {
   "cell_type": "code",
   "execution_count": 28,
   "metadata": {},
   "outputs": [
    {
     "data": {
      "text/plain": [
       "[2, 4, 8, 16]"
      ]
     },
     "execution_count": 28,
     "metadata": {},
     "output_type": "execute_result"
    }
   ],
   "source": [
    "compute_powers_1(2, start=1, end= 4)"
   ]
  },
  {
   "cell_type": "code",
   "execution_count": 25,
   "metadata": {},
   "outputs": [],
   "source": [
    "# Para calcular la potencia de un numero , desde una potencia dada hasta otra\n",
    "def compute_powers_2(n, *, start=1, end):\n",
    "    # se coloca * después del numero para terminar con los parámetros por posición y comenzar con los parámetros por clave\n",
    "    return [n**(x) for x in range(start, end +1)]"
   ]
  },
  {
   "cell_type": "code",
   "execution_count": 29,
   "metadata": {},
   "outputs": [
    {
     "data": {
      "text/plain": [
       "[2, 4, 8, 16]"
      ]
     },
     "execution_count": 29,
     "metadata": {},
     "output_type": "execute_result"
    }
   ],
   "source": [
    "compute_powers_2(2, start=1, end= 4)"
   ]
  },
  {
   "cell_type": "code",
   "execution_count": 38,
   "metadata": {},
   "outputs": [],
   "source": [
    "def compute_powers_3(n, *, start=1, end):\n",
    "    # con un contador , generador\n",
    "    return list(n**x for x in range(start, end +1))"
   ]
  },
  {
   "cell_type": "code",
   "execution_count": 32,
   "metadata": {},
   "outputs": [
    {
     "data": {
      "text/plain": [
       "[2, 4, 8, 16, 32]"
      ]
     },
     "execution_count": 32,
     "metadata": {},
     "output_type": "execute_result"
    }
   ],
   "source": [
    "list(compute_powers_3(2, end=5))"
   ]
  },
  {
   "cell_type": "code",
   "execution_count": 33,
   "metadata": {},
   "outputs": [
    {
     "data": {
      "text/plain": [
       "0.5468334199999845"
      ]
     },
     "execution_count": 33,
     "metadata": {},
     "output_type": "execute_result"
    }
   ],
   "source": [
    "# Ahora para medir el tiempo de la función, utilizamos la función generada previamente\n",
    "time_it(compute_powers_1, 2, start=0, end = 20000, rep= 5)"
   ]
  },
  {
   "cell_type": "code",
   "execution_count": 36,
   "metadata": {},
   "outputs": [
    {
     "data": {
      "text/plain": [
       "0.3974937599999976"
      ]
     },
     "execution_count": 36,
     "metadata": {},
     "output_type": "execute_result"
    }
   ],
   "source": [
    "time_it(compute_powers_2, 2, start=0, end = 20000, rep= 5)"
   ]
  },
  {
   "cell_type": "code",
   "execution_count": 39,
   "metadata": {},
   "outputs": [
    {
     "data": {
      "text/plain": [
       "0.32839830000002623"
      ]
     },
     "execution_count": 39,
     "metadata": {},
     "output_type": "execute_result"
    }
   ],
   "source": [
    "time_it(compute_powers_3, 2, start=0, end = 20000, rep= 5)"
   ]
  },
  {
   "attachments": {},
   "cell_type": "markdown",
   "metadata": {},
   "source": [
    "### Default Values"
   ]
  },
  {
   "cell_type": "code",
   "execution_count": 40,
   "metadata": {},
   "outputs": [],
   "source": [
    "from datetime import datetime"
   ]
  },
  {
   "cell_type": "code",
   "execution_count": 42,
   "metadata": {},
   "outputs": [
    {
     "name": "stdout",
     "output_type": "stream",
     "text": [
      "2023-06-29 14:38:50.335958\n"
     ]
    }
   ],
   "source": [
    "print(datetime.utcnow())"
   ]
  },
  {
   "cell_type": "code",
   "execution_count": 43,
   "metadata": {},
   "outputs": [
    {
     "name": "stdout",
     "output_type": "stream",
     "text": [
      "2023-06-29 14:38:59.332217\n"
     ]
    }
   ],
   "source": [
    "print(datetime.utcnow())"
   ]
  },
  {
   "cell_type": "code",
   "execution_count": 44,
   "metadata": {},
   "outputs": [],
   "source": [
    "def log(msg, *, dt= datetime.utcnow()):\n",
    "    print(f'{dt}: {msg}')"
   ]
  },
  {
   "cell_type": "code",
   "execution_count": 45,
   "metadata": {},
   "outputs": [
    {
     "name": "stdout",
     "output_type": "stream",
     "text": [
      "2001-01-01 00:00:00.0000: message 1\n"
     ]
    }
   ],
   "source": [
    "log('message 1', dt='2001-01-01 00:00:00.0000')"
   ]
  },
  {
   "cell_type": "code",
   "execution_count": 46,
   "metadata": {},
   "outputs": [
    {
     "name": "stdout",
     "output_type": "stream",
     "text": [
      "2023-06-29 14:40:10.625129: message 2\n"
     ]
    }
   ],
   "source": [
    "log('message 2')"
   ]
  },
  {
   "cell_type": "code",
   "execution_count": 47,
   "metadata": {},
   "outputs": [
    {
     "name": "stdout",
     "output_type": "stream",
     "text": [
      "2023-06-29 14:40:10.625129: message 3\n"
     ]
    }
   ],
   "source": [
    "log('message 3')"
   ]
  },
  {
   "attachments": {},
   "cell_type": "markdown",
   "metadata": {},
   "source": [
    "en las ejecuciones previas el dt no cambió a pesar de que fue ejecutada en distintos tiempos y ello es porque lo coloque como un key word argument y le puse que el dt por defecto , fuese el datetime.utcnow() que queda el que se genera cuando se creó la función"
   ]
  },
  {
   "attachments": {},
   "cell_type": "markdown",
   "metadata": {},
   "source": [
    "La manera de arreglar esto es redefinir el dt a None"
   ]
  },
  {
   "cell_type": "code",
   "execution_count": 48,
   "metadata": {},
   "outputs": [],
   "source": [
    "def log(msg, *, dt=None):\n",
    "    dt = dt or datetime.utcnow()\n",
    "    print(f'{msg}, {dt}')    "
   ]
  },
  {
   "cell_type": "code",
   "execution_count": 49,
   "metadata": {},
   "outputs": [
    {
     "name": "stdout",
     "output_type": "stream",
     "text": [
      "message 4, 2023-06-29 14:47:21.597935\n"
     ]
    }
   ],
   "source": [
    "log('message 4')"
   ]
  },
  {
   "cell_type": "code",
   "execution_count": 50,
   "metadata": {},
   "outputs": [
    {
     "name": "stdout",
     "output_type": "stream",
     "text": [
      "message 5, 2023-06-29 14:47:33.044228\n"
     ]
    }
   ],
   "source": [
    "log('message 5')"
   ]
  },
  {
   "cell_type": "code",
   "execution_count": 51,
   "metadata": {},
   "outputs": [],
   "source": [
    "# Otro problema que puede ocurrir es cuando pasamos una lista como parámetro a la función \n",
    "# si en algún momento la lista cambia puede afectar el resultado de la función por ello\n",
    "# es mejor pasarlo como una tupla y así no se puede alterar el contenido de la tupla\n",
    "\n",
    "my_list = (1, 2, 3, 4)\n",
    "def func(a = my_list):\n",
    "    return my_list"
   ]
  },
  {
   "cell_type": "code",
   "execution_count": 53,
   "metadata": {},
   "outputs": [
    {
     "data": {
      "text/plain": [
       "(1, 2, 3, 4)"
      ]
     },
     "execution_count": 53,
     "metadata": {},
     "output_type": "execute_result"
    }
   ],
   "source": [
    "func()"
   ]
  },
  {
   "cell_type": "code",
   "execution_count": null,
   "metadata": {},
   "outputs": [],
   "source": []
  }
 ],
 "metadata": {
  "kernelspec": {
   "display_name": "Python 3",
   "language": "python",
   "name": "python3"
  },
  "language_info": {
   "codemirror_mode": {
    "name": "ipython",
    "version": 3
   },
   "file_extension": ".py",
   "mimetype": "text/x-python",
   "name": "python",
   "nbconvert_exporter": "python",
   "pygments_lexer": "ipython3",
   "version": "3.11.0"
  },
  "orig_nbformat": 4
 },
 "nbformat": 4,
 "nbformat_minor": 2
}
