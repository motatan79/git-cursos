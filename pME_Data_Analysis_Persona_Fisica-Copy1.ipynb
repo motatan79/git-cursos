{
 "cells": [
  {
   "cell_type": "code",
   "execution_count": 3,
   "id": "48ea6f64",
   "metadata": {},
   "outputs": [],
   "source": [
    "import pandas as pd\n",
    "from collections import Counter "
   ]
  },
  {
   "cell_type": "code",
   "execution_count": 4,
   "id": "fce82c1b",
   "metadata": {},
   "outputs": [
    {
     "ename": "ParserError",
     "evalue": "Error tokenizing data. C error: Expected 44 fields in line 4, saw 48\n",
     "output_type": "error",
     "traceback": [
      "\u001b[1;31m---------------------------------------------------------------------------\u001b[0m",
      "\u001b[1;31mParserError\u001b[0m                               Traceback (most recent call last)",
      "\u001b[1;32m<ipython-input-4-e5e5ee10303b>\u001b[0m in \u001b[0;36m<module>\u001b[1;34m\u001b[0m\n\u001b[1;32m----> 1\u001b[1;33m \u001b[0mdatos\u001b[0m \u001b[1;33m=\u001b[0m \u001b[0mpd\u001b[0m\u001b[1;33m.\u001b[0m\u001b[0mread_csv\u001b[0m\u001b[1;33m(\u001b[0m\u001b[1;34m\"C:/Users/m.pirela.escobar/OneDrive - Accenture/Galicia/NV_MDP/NV/mails.txt\"\u001b[0m\u001b[1;33m,\u001b[0m \u001b[0msep\u001b[0m\u001b[1;33m=\u001b[0m\u001b[1;34m\" \"\u001b[0m\u001b[1;33m)\u001b[0m\u001b[1;33m\u001b[0m\u001b[1;33m\u001b[0m\u001b[0m\n\u001b[0m\u001b[0;32m      2\u001b[0m \u001b[0mdatos\u001b[0m\u001b[1;33m\u001b[0m\u001b[1;33m\u001b[0m\u001b[0m\n",
      "\u001b[1;32m~\\Anaconda3\\lib\\site-packages\\pandas\\io\\parsers.py\u001b[0m in \u001b[0;36mread_csv\u001b[1;34m(filepath_or_buffer, sep, delimiter, header, names, index_col, usecols, squeeze, prefix, mangle_dupe_cols, dtype, engine, converters, true_values, false_values, skipinitialspace, skiprows, skipfooter, nrows, na_values, keep_default_na, na_filter, verbose, skip_blank_lines, parse_dates, infer_datetime_format, keep_date_col, date_parser, dayfirst, cache_dates, iterator, chunksize, compression, thousands, decimal, lineterminator, quotechar, quoting, doublequote, escapechar, comment, encoding, dialect, error_bad_lines, warn_bad_lines, delim_whitespace, low_memory, memory_map, float_precision, storage_options)\u001b[0m\n\u001b[0;32m    608\u001b[0m     \u001b[0mkwds\u001b[0m\u001b[1;33m.\u001b[0m\u001b[0mupdate\u001b[0m\u001b[1;33m(\u001b[0m\u001b[0mkwds_defaults\u001b[0m\u001b[1;33m)\u001b[0m\u001b[1;33m\u001b[0m\u001b[1;33m\u001b[0m\u001b[0m\n\u001b[0;32m    609\u001b[0m \u001b[1;33m\u001b[0m\u001b[0m\n\u001b[1;32m--> 610\u001b[1;33m     \u001b[1;32mreturn\u001b[0m \u001b[0m_read\u001b[0m\u001b[1;33m(\u001b[0m\u001b[0mfilepath_or_buffer\u001b[0m\u001b[1;33m,\u001b[0m \u001b[0mkwds\u001b[0m\u001b[1;33m)\u001b[0m\u001b[1;33m\u001b[0m\u001b[1;33m\u001b[0m\u001b[0m\n\u001b[0m\u001b[0;32m    611\u001b[0m \u001b[1;33m\u001b[0m\u001b[0m\n\u001b[0;32m    612\u001b[0m \u001b[1;33m\u001b[0m\u001b[0m\n",
      "\u001b[1;32m~\\Anaconda3\\lib\\site-packages\\pandas\\io\\parsers.py\u001b[0m in \u001b[0;36m_read\u001b[1;34m(filepath_or_buffer, kwds)\u001b[0m\n\u001b[0;32m    466\u001b[0m \u001b[1;33m\u001b[0m\u001b[0m\n\u001b[0;32m    467\u001b[0m     \u001b[1;32mwith\u001b[0m \u001b[0mparser\u001b[0m\u001b[1;33m:\u001b[0m\u001b[1;33m\u001b[0m\u001b[1;33m\u001b[0m\u001b[0m\n\u001b[1;32m--> 468\u001b[1;33m         \u001b[1;32mreturn\u001b[0m \u001b[0mparser\u001b[0m\u001b[1;33m.\u001b[0m\u001b[0mread\u001b[0m\u001b[1;33m(\u001b[0m\u001b[0mnrows\u001b[0m\u001b[1;33m)\u001b[0m\u001b[1;33m\u001b[0m\u001b[1;33m\u001b[0m\u001b[0m\n\u001b[0m\u001b[0;32m    469\u001b[0m \u001b[1;33m\u001b[0m\u001b[0m\n\u001b[0;32m    470\u001b[0m \u001b[1;33m\u001b[0m\u001b[0m\n",
      "\u001b[1;32m~\\Anaconda3\\lib\\site-packages\\pandas\\io\\parsers.py\u001b[0m in \u001b[0;36mread\u001b[1;34m(self, nrows)\u001b[0m\n\u001b[0;32m   1055\u001b[0m     \u001b[1;32mdef\u001b[0m \u001b[0mread\u001b[0m\u001b[1;33m(\u001b[0m\u001b[0mself\u001b[0m\u001b[1;33m,\u001b[0m \u001b[0mnrows\u001b[0m\u001b[1;33m=\u001b[0m\u001b[1;32mNone\u001b[0m\u001b[1;33m)\u001b[0m\u001b[1;33m:\u001b[0m\u001b[1;33m\u001b[0m\u001b[1;33m\u001b[0m\u001b[0m\n\u001b[0;32m   1056\u001b[0m         \u001b[0mnrows\u001b[0m \u001b[1;33m=\u001b[0m \u001b[0mvalidate_integer\u001b[0m\u001b[1;33m(\u001b[0m\u001b[1;34m\"nrows\"\u001b[0m\u001b[1;33m,\u001b[0m \u001b[0mnrows\u001b[0m\u001b[1;33m)\u001b[0m\u001b[1;33m\u001b[0m\u001b[1;33m\u001b[0m\u001b[0m\n\u001b[1;32m-> 1057\u001b[1;33m         \u001b[0mindex\u001b[0m\u001b[1;33m,\u001b[0m \u001b[0mcolumns\u001b[0m\u001b[1;33m,\u001b[0m \u001b[0mcol_dict\u001b[0m \u001b[1;33m=\u001b[0m \u001b[0mself\u001b[0m\u001b[1;33m.\u001b[0m\u001b[0m_engine\u001b[0m\u001b[1;33m.\u001b[0m\u001b[0mread\u001b[0m\u001b[1;33m(\u001b[0m\u001b[0mnrows\u001b[0m\u001b[1;33m)\u001b[0m\u001b[1;33m\u001b[0m\u001b[1;33m\u001b[0m\u001b[0m\n\u001b[0m\u001b[0;32m   1058\u001b[0m \u001b[1;33m\u001b[0m\u001b[0m\n\u001b[0;32m   1059\u001b[0m         \u001b[1;32mif\u001b[0m \u001b[0mindex\u001b[0m \u001b[1;32mis\u001b[0m \u001b[1;32mNone\u001b[0m\u001b[1;33m:\u001b[0m\u001b[1;33m\u001b[0m\u001b[1;33m\u001b[0m\u001b[0m\n",
      "\u001b[1;32m~\\Anaconda3\\lib\\site-packages\\pandas\\io\\parsers.py\u001b[0m in \u001b[0;36mread\u001b[1;34m(self, nrows)\u001b[0m\n\u001b[0;32m   2059\u001b[0m     \u001b[1;32mdef\u001b[0m \u001b[0mread\u001b[0m\u001b[1;33m(\u001b[0m\u001b[0mself\u001b[0m\u001b[1;33m,\u001b[0m \u001b[0mnrows\u001b[0m\u001b[1;33m=\u001b[0m\u001b[1;32mNone\u001b[0m\u001b[1;33m)\u001b[0m\u001b[1;33m:\u001b[0m\u001b[1;33m\u001b[0m\u001b[1;33m\u001b[0m\u001b[0m\n\u001b[0;32m   2060\u001b[0m         \u001b[1;32mtry\u001b[0m\u001b[1;33m:\u001b[0m\u001b[1;33m\u001b[0m\u001b[1;33m\u001b[0m\u001b[0m\n\u001b[1;32m-> 2061\u001b[1;33m             \u001b[0mdata\u001b[0m \u001b[1;33m=\u001b[0m \u001b[0mself\u001b[0m\u001b[1;33m.\u001b[0m\u001b[0m_reader\u001b[0m\u001b[1;33m.\u001b[0m\u001b[0mread\u001b[0m\u001b[1;33m(\u001b[0m\u001b[0mnrows\u001b[0m\u001b[1;33m)\u001b[0m\u001b[1;33m\u001b[0m\u001b[1;33m\u001b[0m\u001b[0m\n\u001b[0m\u001b[0;32m   2062\u001b[0m         \u001b[1;32mexcept\u001b[0m \u001b[0mStopIteration\u001b[0m\u001b[1;33m:\u001b[0m\u001b[1;33m\u001b[0m\u001b[1;33m\u001b[0m\u001b[0m\n\u001b[0;32m   2063\u001b[0m             \u001b[1;32mif\u001b[0m \u001b[0mself\u001b[0m\u001b[1;33m.\u001b[0m\u001b[0m_first_chunk\u001b[0m\u001b[1;33m:\u001b[0m\u001b[1;33m\u001b[0m\u001b[1;33m\u001b[0m\u001b[0m\n",
      "\u001b[1;32mpandas\\_libs\\parsers.pyx\u001b[0m in \u001b[0;36mpandas._libs.parsers.TextReader.read\u001b[1;34m()\u001b[0m\n",
      "\u001b[1;32mpandas\\_libs\\parsers.pyx\u001b[0m in \u001b[0;36mpandas._libs.parsers.TextReader._read_low_memory\u001b[1;34m()\u001b[0m\n",
      "\u001b[1;32mpandas\\_libs\\parsers.pyx\u001b[0m in \u001b[0;36mpandas._libs.parsers.TextReader._read_rows\u001b[1;34m()\u001b[0m\n",
      "\u001b[1;32mpandas\\_libs\\parsers.pyx\u001b[0m in \u001b[0;36mpandas._libs.parsers.TextReader._tokenize_rows\u001b[1;34m()\u001b[0m\n",
      "\u001b[1;32mpandas\\_libs\\parsers.pyx\u001b[0m in \u001b[0;36mpandas._libs.parsers.raise_parser_error\u001b[1;34m()\u001b[0m\n",
      "\u001b[1;31mParserError\u001b[0m: Error tokenizing data. C error: Expected 44 fields in line 4, saw 48\n"
     ]
    }
   ],
   "source": [
    "datos = pd.read_csv(\"C:/Users/m.pirela.escobar/OneDrive - Accenture/Galicia/NV_MDP/NV/mails.txt\", sep=\" \")\n",
    "datos"
   ]
  },
  {
   "cell_type": "code",
   "execution_count": 19,
   "id": "a31cc4a0",
   "metadata": {},
   "outputs": [
    {
     "name": "stdout",
     "output_type": "stream",
     "text": [
      "El archivo tiene: 27300 filas, 16 columnas\n"
     ]
    }
   ],
   "source": [
    "tamaño = print('El archivo tiene:', datos.shape[0], 'filas,',  datos.shape[1], 'columnas')"
   ]
  },
  {
   "cell_type": "code",
   "execution_count": 20,
   "id": "efaf0f48",
   "metadata": {},
   "outputs": [
    {
     "name": "stdout",
     "output_type": "stream",
     "text": [
      "SourceCode_SourceId\n",
      "LegalBusinessName\n",
      "Street\n",
      "Number\n",
      "Neigborhood\n",
      "City\n",
      "Province\n",
      "Postal_Code\n",
      "Country\n",
      "Home_Phone\n",
      "Office_Phone\n",
      "Other_Phone\n",
      "Cell_Phone\n",
      "Email_Address\n",
      "Identifier\n",
      "CPA\n"
     ]
    }
   ],
   "source": [
    "columns_names = datos.columns.values\n",
    "columnas = list(columns_names)\n",
    "for campos in columnas:\n",
    "    print(campos)"
   ]
  },
  {
   "cell_type": "markdown",
   "id": "91a17b28",
   "metadata": {},
   "source": [
    "## Para calcular datos nulos por columnas"
   ]
  },
  {
   "cell_type": "code",
   "execution_count": 21,
   "id": "858c0f89",
   "metadata": {},
   "outputs": [
    {
     "data": {
      "text/plain": [
       "SourceCode_SourceId       0\n",
       "LegalBusinessName         0\n",
       "Street                    0\n",
       "Number                  175\n",
       "Neigborhood               0\n",
       "City                     14\n",
       "Province                  0\n",
       "Postal_Code               0\n",
       "Country                   0\n",
       "Home_Phone                0\n",
       "Office_Phone              0\n",
       "Other_Phone               0\n",
       "Cell_Phone                0\n",
       "Email_Address             0\n",
       "Identifier                0\n",
       "CPA                    6956\n",
       "dtype: int64"
      ]
     },
     "execution_count": 21,
     "metadata": {},
     "output_type": "execute_result"
    }
   ],
   "source": [
    "datos.isnull().sum()"
   ]
  },
  {
   "cell_type": "code",
   "execution_count": 9,
   "id": "898db7b3",
   "metadata": {},
   "outputs": [
    {
     "data": {
      "text/html": [
       "<div>\n",
       "<style scoped>\n",
       "    .dataframe tbody tr th:only-of-type {\n",
       "        vertical-align: middle;\n",
       "    }\n",
       "\n",
       "    .dataframe tbody tr th {\n",
       "        vertical-align: top;\n",
       "    }\n",
       "\n",
       "    .dataframe thead th {\n",
       "        text-align: right;\n",
       "    }\n",
       "</style>\n",
       "<table border=\"1\" class=\"dataframe\">\n",
       "  <thead>\n",
       "    <tr style=\"text-align: right;\">\n",
       "      <th></th>\n",
       "      <th>Identifier</th>\n",
       "    </tr>\n",
       "  </thead>\n",
       "  <tbody>\n",
       "  </tbody>\n",
       "</table>\n",
       "</div>"
      ],
      "text/plain": [
       "Empty DataFrame\n",
       "Columns: [Identifier]\n",
       "Index: []"
      ]
     },
     "execution_count": 9,
     "metadata": {},
     "output_type": "execute_result"
    }
   ],
   "source": [
    "datos1 = datos.replace({\"?\": \"Blanco\"})\n",
    "datos2 = datos1.fillna({'Street': \"Blanco\", 'Number': \"Blanco\", 'City':\"Blanco\"})\n",
    "\n",
    "datos3 = datos2[['Identifier']].copy()\n",
    "datos4 = datos3[datos3['Identifier'] == 'Blanco']\n",
    "\n",
    "datos4"
   ]
  },
  {
   "cell_type": "code",
   "execution_count": 30,
   "id": "6741ba88",
   "metadata": {},
   "outputs": [
    {
     "data": {
      "text/plain": [
       "SourceCode_SourceId  LastName            FirstName        Gender  BirthDate   Street                     Number  Neigborhood  City                          Province  Postal_Code  Country  Home_Phone  Office_Phone    Cell_Phone  Email_Address                       Identifier \n",
       "NV4880890            DEBERNARDI          JOSE LUIS        C       17/2/1969   ESTRADA JOSE MANUEL NORTE  83      Blanco       RIO CUARTO                    4         5800         80       Blanco      (358)>490-5596  Blanco      JOSELUISDEBERNARDI@HOTMAIL.COM      20202089195    5\n",
       "NV4899548            MEDINA DE LA TORRE  ALBA             S       17/2/1976   LARREA                     632     Blanco       RAMOS MEJIA                   2         1704         80       Blanco      (11)>6159-9316  Blanco      011-61599316@00001                  27250048128    5\n",
       "NV15609651           CIRONA              MARIA SILVANA    S       13/10/1984  ELIPIDIO GONZALEZ          7951    Blanco       RODEO DE LA CRUZ              13        5525         80       Blanco      (261)>390-1189  Blanco      SILVANACIRONA@GMAIL.COM             27309727261    5\n",
       "NV12381008           VARGAS              DIEGO SEBASTIAN  C       16/10/1978  ENTRE RIOS                 254     Blanco       SAN ANTONIO DE PADUA          2         1718         80       Blanco      (11)>6936-4445  Blanco      ITUMOTO@HOTMAIL.COM                 20268733508    5\n",
       "NV11070866           TRACANNA            ANA INES         S       2/9/1985    SAN JUAN CASA 7            4641    Blanco       SAN MIGUEL DE TUCUMAN         23        4000         80       Blanco      (381)>413-2982  Blanco      ANAINESTRACANNA@GMAIL.COM           27316446626    5\n",
       "                                                                                                                                                                                                                                                                                      ..\n",
       "NV1578015            GIMENEZ             MARCELO ADRIAN   S       30/9/1972   BELGRANO SUR GRAL MANUEL   2820    Blanco       BENAVIDEZ                     2         1621         80       Blanco      (11)>5758-0283  Blanco      MARCELOADRIAN_GIMENEZ@YAHOO.COM.AR  20227953129    1\n",
       "NV15780149           RETO REYNAL         FERNANDO         S       18/4/1980   AVENIDA ALVEAR             1864    Blanco       Blanco                        1         1129         80       Blanco      (11)>5505-1389  Blanco      FERNANDORETOREYNAL@HOTMAIL.COM      20283233910    1\n",
       "                                                                              ARENALES                   1138    Blanco       CIUDAD AUTONOMA BUENOS AIRES  1         1061         80       Blanco      (11)>5505-1389  Blanco      FERNANDORETOREYNAL@HOTMAIL.COM      20283233910    1\n",
       "NV15780132           SISI                TAMARA GISELA    S       18/1/1981   DEL VALLE ARISTOBULO       1195    Blanco       CIUDAD AUTONOMA BUENOS AIRES  1         1165         80       Blanco      (11)>3237-9011  Blanco      TAMARAGISELA@HOTMAIL.COM            27283026898    1\n",
       "NV9999920            BADANO              LUCIO ROSENDO    S       10/1/1971   LAS MAGNOLIAS              634     Blanco       NEUQUEN                       15        8300         80       Blanco      (299)>467-6000  Blanco      2995044949@TE.COM                   20219527625    1\n",
       "Length: 1284562, dtype: int64"
      ]
     },
     "execution_count": 30,
     "metadata": {},
     "output_type": "execute_result"
    }
   ],
   "source": [
    "datos1[['SourceCode_SourceId', 'LastName', 'FirstName' , 'Gender', 'BirthDate', 'Street', 'Number' , 'Neigborhood', \n",
    "                       'City', 'Province', 'Postal_Code', 'Country', 'Home_Phone', 'Office_Phone', 'Cell_Phone', 'Email_Address' ,  'Identifier']].value_counts()"
   ]
  },
  {
   "cell_type": "markdown",
   "id": "4dcdce39",
   "metadata": {},
   "source": [
    "## En el campo Home_Phone sólo aparecen \"?\""
   ]
  },
  {
   "cell_type": "code",
   "execution_count": 19,
   "id": "8718aedc",
   "metadata": {},
   "outputs": [
    {
     "name": "stdout",
     "output_type": "stream",
     "text": [
      "[('?', 1350000)]\n"
     ]
    }
   ],
   "source": [
    "home_phone = datos['Home_Phone'].to_list()\n",
    "def group_list(lst): \n",
    "      \n",
    "    return list(zip(Counter(lst).keys(), Counter(lst).values())) \n",
    "      \n",
    "lst = datos['Home_Phone'].to_list()\n",
    "print(group_list(lst)) "
   ]
  },
  {
   "cell_type": "markdown",
   "id": "04b2d272",
   "metadata": {},
   "source": [
    "## En el campo Cell_Phone sólo aparecen \"?\""
   ]
  },
  {
   "cell_type": "code",
   "execution_count": 21,
   "id": "17ab4ee8",
   "metadata": {},
   "outputs": [
    {
     "name": "stdout",
     "output_type": "stream",
     "text": [
      "[('?', 1350000)]\n"
     ]
    }
   ],
   "source": [
    "cell_phone = datos[\"Cell_Phone\"].to_list()\n",
    "def group_list(lst): \n",
    "      \n",
    "    return list(zip(Counter(lst).keys(), Counter(lst).values())) \n",
    "      \n",
    "lst = datos['Cell_Phone'].to_list()\n",
    "print(group_list(lst)) "
   ]
  },
  {
   "cell_type": "markdown",
   "id": "573f5543",
   "metadata": {},
   "source": [
    "## En el campo Gender aparecen"
   ]
  },
  {
   "cell_type": "code",
   "execution_count": 17,
   "id": "94f3e484",
   "metadata": {},
   "outputs": [
    {
     "name": "stdout",
     "output_type": "stream",
     "text": [
      "[('F', 655094), ('M', 694893), ('?', 13)]\n"
     ]
    }
   ],
   "source": [
    "cell_phone = datos[\"Gender\"].to_list()\n",
    "def group_list(lst): \n",
    "      \n",
    "    return list(zip(Counter(lst).keys(), Counter(lst).values())) \n",
    "      \n",
    "lst = datos['Gender'].to_list()\n",
    "print(group_list(lst)) "
   ]
  }
 ],
 "metadata": {
  "kernelspec": {
   "display_name": "Python 3",
   "language": "python",
   "name": "python3"
  },
  "language_info": {
   "codemirror_mode": {
    "name": "ipython",
    "version": 3
   },
   "file_extension": ".py",
   "mimetype": "text/x-python",
   "name": "python",
   "nbconvert_exporter": "python",
   "pygments_lexer": "ipython3",
   "version": "3.8.8"
  }
 },
 "nbformat": 4,
 "nbformat_minor": 5
}
